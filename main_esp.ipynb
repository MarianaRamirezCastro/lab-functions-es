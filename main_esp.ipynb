{
 "cells": [
  {
   "cell_type": "markdown",
   "metadata": {},
   "source": [
    "# Functions"
   ]
  },
  {
   "cell_type": "markdown",
   "metadata": {},
   "source": [
    "En este laboratorio pondremos en práctica algunos de los conceptos que hemos aprendido en los últimos días.\n",
    "\n",
    "`NOTA: En este laboratorio deberías intentar escribir todas las funciones por ti mismo utilizando solo la sintaxis más básica de Python y sin funciones como len, count, sum, max, min, in, etc. Dale una oportunidad. 🧑🏻‍💻👩🏻‍💻`\n",
    "\n",
    "La celda después de cada ejercicio contiene algunas pruebas para verificar si tu función funciona como se espera."
   ]
  },
  {
   "cell_type": "code",

   "execution_count": 7,

   "metadata": {},
   "outputs": [],
   "source": [
    "from mod.testing import *\n",
    "import unittest"
   ]
  },
  {
   "cell_type": "markdown",
   "metadata": {},
   "source": [
    "## 1. Escribe una función que devuelva el mayor de dos números"
   ]
  },
  {
   "cell_type": "code",
   "execution_count": 6,
   "metadata": {},
   "outputs": [
    {
     "ename": "SyntaxError",
     "evalue": "incomplete input (2555642539.py, line 2)",
     "output_type": "error",
     "traceback": [
      "\u001b[0;36m  Cell \u001b[0;32mIn[6], line 2\u001b[0;36m\u001b[0m\n\u001b[0;31m    #your code here #tu codigo aquí\u001b[0m\n\u001b[0m                                   ^\u001b[0m\n\u001b[0;31mSyntaxError\u001b[0m\u001b[0;31m:\u001b[0m incomplete input\n"
     ]
    }
   ],
   "source": [
    "def greater(a,b):\n",

    "    if(a > b):\n",
    "        return a\n",
    "    if(b > a):\n",
    "        return b"
   ]
  },
  {
   "cell_type": "code",
   "execution_count": 5,
   "metadata": {},
   "outputs": [
    {
     "name": "stderr",
     "output_type": "stream",
     "text": [
      "....................................................................................................\n",
      "----------------------------------------------------------------------\n",
      "Ran 100 tests in 0.190s\n",
      "\n",
      "OK\n"
     ]
    }
   ],
   "source": [
    "# Para testear tu función\n",
    "test_greater(greater)"
   ]
  },
  {
   "cell_type": "markdown",
   "metadata": {},
   "source": [
    "## 2. Ahora escribe una función que devuelva el elemento más"
   ]
  },
  {
   "cell_type": "code",

   "execution_count": 1,

   "metadata": {},
   "outputs": [
    {
     "data": {
      "text/plain": [
       "60"
      ]
     },

     "execution_count": 1,

     "metadata": {},
     "output_type": "execute_result"
    }
   ],
   "source": [
    "#tu codigo aquí\n",
    "def greatest(lst):\n",
    "    a=0\n",
    "    for i in lst:\n",
    "        if a>i:\n",
    "            a\n",
    "        else:\n",
    "            a=i\n",
    "    return a\n",
    "lst=[1,2,3,60]\n",
    "greatest(lst)"
   ]
  },
  {
   "cell_type": "code",

   "execution_count": 10,

   "metadata": {},
   "outputs": [
    {
     "name": "stderr",
     "output_type": "stream",
     "text": [
      "....................................................................................................\n",
      "----------------------------------------------------------------------\n",

      "Ran 100 tests in 0.123s\n",

      "\n",
      "OK\n"
     ]
    }
   ],
   "source": [
    "# Para testear tu función\n",
    "test_greatest(greatest)"
   ]
  },
  {
   "cell_type": "markdown",
   "metadata": {},
   "source": [
    "## 3. Escribe una función que sume todos los elementos de una lista"
   ]
  },
  {
   "cell_type": "code",
   "execution_count": null,
   "metadata": {},
   "outputs": [],
   "source": [
    "def sum_all(lst):\n",
    "    return reduce(lambda x, y:  x+y,lst)"
   ]
  },
  {
   "cell_type": "code",
   "execution_count": null,
   "metadata": {
    "scrolled": true
   },
   "outputs": [],
   "source": [
    "# Para testear tu función\n",
    "test_sum(sum_all)"
   ]
  },
  {
   "cell_type": "markdown",
   "metadata": {},
   "source": [
    "## 4. Escribe otra función que multiplique todos los elementos de una lista"
   ]
  },
  {
   "cell_type": "code",

   "execution_count": 15,

   "metadata": {},
   "outputs": [
    {
     "data": {
      "text/plain": [
       "360"
      ]
     },

     "execution_count": 2,

     "metadata": {},
     "output_type": "execute_result"
    }
   ],
   "source": [
    "def mult_all(lst):\n",
    "    a=1\n",
    "    for i in lst:\n",
    "        a= a*i\n",
    "    return a\n",
    "#tu codigo aquí\n",
    "\n",
    "lst=[1,2,3,60]\n",
    "mult_all(lst)"
   ]
  },
  {
   "cell_type": "code",

   "execution_count": 9,

   "metadata": {
    "scrolled": true
   },
   "outputs": [
    {
     "name": "stderr",
     "output_type": "stream",
     "text": [
      "....................................................................................................\n",
      "----------------------------------------------------------------------\n",

      "Ran 100 tests in 0.125s\n",

      "\n",
      "OK\n"
     ]
    }
   ],
   "source": [
    "# Para testear tu función\n",
    "test_mult(mult_all)"
   ]
  },
  {
   "cell_type": "markdown",
   "metadata": {},
   "source": [
    "## 5. Ahora combina esas dos ideas y escribe una función que reciba una lista y ya sea \"+\" o \"*\", y produzca el resultado acorde"
   ]
  },
  {
   "cell_type": "code",
   "execution_count": null,
   "metadata": {},
   "outputs": [],
   "source": [
    "def oper_all(arr, oper = \"*\"):\n",
    "    class OperAll:\n",
    "        def __init__(self, oper=\"+\"):\n",
    "            self.oper = oper\n",
    "        def __call__(self, arr):\n",
    "            if self.oper ==\"+\":\n",
    "                return reduce(lambda x,y: x+y, arr)\n",
    "            elif self.oper ==\"*\":\n",
    "                return reduce(lambda x, y: x*y, arr)\n",
    "    \n",
    "    return OperAll(oper)(arr)"
   ]
  },
  {
   "cell_type": "code",
   "execution_count": null,
   "metadata": {},
   "outputs": [],
   "source": [
    "# Para testear tu función\n",
    "test_operations(oper_all)"
   ]
  },
  {
   "cell_type": "markdown",
   "metadata": {},
   "source": [
    "## 6. Escribe una función que devuelva el factorial de un número."
   ]
  },
  {
   "cell_type": "code",

   "execution_count": 4,
   "metadata": {},
   "outputs": [
    {
     "name": "stdout",
     "output_type": "stream",
     "text": [
      "120\n",
      "720\n",
      "5040\n"
     ]

    }
   ],
   "source": [
    "def factorial(n):\n",
    "    lst=[i for i in range(1,n+1)]\n",
    "    a=1\n",
    "    for i in lst:\n",
    "        a= a*i\n",
    "    return a\n",
    "\n",

    "print(factorial(5))\n",
    "print(factorial(6))\n",
    "print(factorial(7))"

   ]
  },
  {
   "cell_type": "code",
   "execution_count": 1,
   "metadata": {},
   "outputs": [],
   "source": [
    "# Fórmula factorial\n",
    "# n! = n * (n - 1) *...*1\n",
    "\n",
    "# Este código define una función llamada \"factorial\" que toma una entrada \"n\". La función utiliza un bucle for para iterar a través del rango de números\n",
    "# desde 1 hasta n+1. Para cada número en ese rango, multiplica el valor actual de x por el número en el rango. Al final del bucle,\n",
    "# la función devuelve el valor final de x, que será el factorial del número de entrada \"n\".\n",
    "\n",
    "# El factorial de un entero positivo n es el producto de todos los enteros positivos menores o iguales a n.\n",
    "# Por ejemplo, el factorial de 6 (escrito \"6!\") es 6 * 5 * 4 * 3 * 2 * 1 = 720.\n",
    "\n",
    "# Así que esta función toma una entrada de cualquier entero positivo y devuelve el factorial de ese número."
   ]
  },
  {
   "cell_type": "code",

   "execution_count": 10,

   "metadata": {},
   "outputs": [
    {
     "name": "stderr",
     "output_type": "stream",
     "text": [
      "....................................................................................................\n",
      "----------------------------------------------------------------------\n",

      "Ran 100 tests in 0.127s\n",

      "\n",
      "OK\n"
     ]
    }
   ],
   "source": [
    "# This will test your function \n",
    "test_factorial(factorial)"
   ]
  },
  {
   "cell_type": "markdown",
   "metadata": {},
   "source": [
    "## 7. Escribe una función que tome una lista y devuelva una lista de los valores únicos.\n",
    "\n",
    "`NOTE: No podemos usar set. 🤔`"
   ]
  },
  {
   "cell_type": "code",
   "execution_count": null,
   "metadata": {},
   "outputs": [],
   "source": [
    "def unique(lst_un):\n",
    "    class Unique:\n",
    "        def __call__(self):\n",
    "            unique_list = []\n",
    "            for item in lst_un: \n",
    "                if item not in unique_list:\n",
    "                    unique_list.append(item)\n",
    "            return Unique()()"
   ]
  },
  {
   "cell_type": "code",
   "execution_count": null,
   "metadata": {},
   "outputs": [],
   "source": [
    "# Para testear tu función \n",
    "test_unique(unique)"
   ]
  },
  {
   "cell_type": "markdown",
   "metadata": {},
   "source": [
    "## 8. Escribe una función que devuelva la moda de una lista, es decir: el elemento que aparece más veces.\n",
    "\n",
    "`NOTE: No se debe usar count... 🧐`"
   ]
  },
  {
   "cell_type": "code",

   "execution_count": 150,

   "metadata": {},
   "outputs": [
    {
     "data": {
      "text/plain": [
       "2"
      ]
     },

     "execution_count": 150,

     "metadata": {},
     "output_type": "execute_result"
    }
   ],
   "source": [
    "def mode_counter(arr):\n",
    "    contador = 0\n",
    "    for i in arr:\n",
    "        if contador < arr.count(i):\n",
    "            moda = i\n",
    "            contador =arr.count(i)\n",
    "            # print(f\"El contador cambio a {contador}\")    \n",
    "    return moda\n",
    "    \n",
    "arr = [1,2,2,3,3,3,4,2,2]\n",
    "mode_counter(arr)"
   ]
  },
  {
   "cell_type": "code",

   "execution_count": 11,

   "metadata": {},
   "outputs": [
    {
     "name": "stderr",
     "output_type": "stream",
     "text": [
      "....................................................................................................\n",
      "----------------------------------------------------------------------\n",

      "Ran 100 tests in 0.173s\n",

      "\n",
      "OK\n"
     ]
    }
   ],
   "source": [
    "# Para testear tu función \n",
    "test_mode(mode_counter)"
   ]
  },
  {
   "cell_type": "markdown",
   "metadata": {},
   "source": [
    "## 9. Escribe una función que calcule la desviación estándar de una lista.\n",
    "`NOTE: no utilices librerías ni ninguna función ya construida. 😉`"
   ]
  },
  {
   "cell_type": "code",
   "execution_count": null,
   "metadata": {},
   "outputs": [],
   "source": [
    "def st_dev(list_sd):\n",
    "    n = len(list_sd)\n",
    "    if n <= 1:\n",
    "        return 0  # Si hay menos de dos elementos, la desviación estándar es cero\n",
    "    mean = sum(list_sd) / n\n",
    "    variance = sum((x - mean) ** 2 for x in list_sd) / (n - 1)\n",
    "    return math.sqrt(variance)"
   ]
  },
  {
   "cell_type": "code",
   "execution_count": null,
   "metadata": {},
   "outputs": [],
   "source": [
    "# Para testear tu función\n",
    "test_stdev(st_dev)"
   ]
  },
  {
   "cell_type": "markdown",
   "metadata": {},
   "source": [
    "## 10. Escribe una función para verificar si una cadena es un pangrama, es decir: si contiene todas las letras del alfabeto al menos una vez. Ten en cuenta que las cadenas pueden contener caracteres que no son letras."
   ]
  },
  {
   "cell_type": "code",

   "execution_count": 12,

   "metadata": {},
   "outputs": [
    {
     "name": "stdout",
     "output_type": "stream",
     "text": [

      "{'p', 'i', 'r', 'k', 'g', 'd', 'l', 'n', 'z', 'f', 's', 'y', 'x', 'h', 'e', 'q', 'm', 'a', 'o', 't', 'u', 'c', 'v', 'j'}\n",
      "Waltz, nymph, for quick jigs vex Bud.Value: False\n",
      "{'w', 'p', 'i', 'r', 'k', 'g', 'd', 'l', 'n', 'z', 'f', 'y', 'x', 'h', 'e', 'q', 'm', 'a', 'o', 't', 'u', 'c', 'v', 'j', 'b'}\n",
      "Sphinx of black quartz, judge my vow.Value: False\n",
      "{'w', 'i', 'r', 'k', 'g', 'd', 'l', 'n', 'z', 'f', 's', 'y', 'x', 'h', 'e', 'q', 'm', 'a', 'o', 't', 'u', 'c', 'v', 'j', 'b'}\n",
      "Pack my box with five dozen liquor jugs.Value: False\n",
      "{'w', 'i', 'p', 'r', 'k', 'd', 'l', 'n', 'z', 'f', 's', 'y', 'x', 'h', 'e', 'q', 'm', 'a', 'o', 't', 'u', 'c', 'v', 'j', 'b'}\n",
      "Glib jocks quiz nymph to vex dwarf.Value: False\n",
      "{'w', 'i', 'p', 'r', 'k', 'g', 'd', 'l', 'n', 'f', 'z', 's', 'y', 'x', 'h', 'e', 'q', 'm', 'a', 'o', 't', 'u', 'c', 'v', 'b'}\n",
      "Jackdaws love my big sphinx of quartz.Value: False\n",
      "{'w', 'i', 'p', 'r', 'k', 'g', 'd', 'l', 'n', 'z', 'f', 's', 'y', 'x', 'h', 'e', 'q', 'm', 'a', 'o', 'u', 'c', 'v', 'j', 'b'}\n",
      "The five boxing wizards jump quickly.Value: False\n",
      "{'w', 'i', 'p', 'r', 'k', 'g', 'd', 'l', 'n', 'z', 'f', 's', 'y', 'x', 'e', 'q', 'm', 'a', 'o', 't', 'u', 'c', 'v', 'j', 'b'}\n",
      "How vexingly quick daft zebras jump!Value: False\n",
      "{'w', 'i', 'p', 'r', 'k', 'g', 'd', 'l', 'n', 'z', 'f', 's', 'y', 'x', 'h', 'e', 'm', 'a', 'o', 't', 'u', 'c', 'v', 'b'}\n",
      "Quick zephyrs blow, vexing daft Jim.Value: False\n",
      "{'w', 'i', 'p', 'r', 'k', 'g', 'd', 'l', 'n', 'f', 'z', 's', 'y', 'x', 'h', 'e', 'q', 'm', 'a', 'o', 'u', 'c', 'v', 'j', 'b'}\n",
      "Two driven jocks help fax my big quiz.Value: False\n",
      "{'w', 'p', 'i', 'r', 'k', 'g', 'd', 'l', 'n', 'z', 'f', 's', 'y', 'x', 'h', 'e', 'q', 'm', 'a', 'o', 'u', 'c', 'v', 'j', 'b'}\n",
      "The jay, pig, fox, zebra and my wolves quack!Value: False\n",
      "{'w', 'p', 'i', 'r', 'k', 'g', 'd', 'l', 'n', 'z', 'f', 's', 'y', 'x', 'h', 'e', 'm', 'a', 'o', 't', 'u', 'c', 'v', 'j', 'b'}\n",
      "Sympathizing would fix Quaker objectives.Value: False\n",
      "{'w', 'i', 'p', 'r', 'k', 'g', 'd', 'l', 'n', 'z', 'f', 's', 'y', 'x', 'h', 'e', 'q', 'm', 'a', 'o', 't', 'u', 'c', 'v', 'j', 'b'}\n",
      "A wizard's job is to vex chumps quickly in fog.Value: True\n",
      "{'p', 'i', 'r', 'k', 'g', 'd', 'l', 'n', 'f', 'z', 's', 'y', 'x', 'h', 'e', 'q', 'm', 'a', 'o', 't', 'u', 'c', 'b'}\n",
      "Watch 'Jeopardy!', Alex Trebek's fun TV quiz game.Value: False\n",
      "{'w', 'i', 'p', 'r', 'k', 'g', 'd', 'l', 'n', 'f', 'z', 's', 'y', 'x', 'h', 'e', 'q', 'm', 'a', 'o', 't', 'u', 'c', 'v'}\n",
      "By Jove, my quick study of lexicography won a prize!Value: False\n",
      "{'i', 'p', 'r', 'k', 'g', 'd', 'l', 'n', 'f', 'z', 's', 'y', 'x', 'h', 'e', 'q', 'm', 'a', 'o', 't', 'u', 'c', 'v', 'j', 'b'}\n",

      "Waxy and quivering, jocks fumble the pizza.Value: False\n"
     ]
    }
   ],
   "source": [
    "# importo el módulo de expresiones regulares\n",
    "import re\n",
    "abecedario =set(['a', 'b', 'c', 'd', 'e',  'f', 'g', 'h', 'i','j', 'k', 'l', 'm', 'n', 'o', 'p', 'q',  'r', 's', 't', 'u', 'v', 'w','x', 'y', 'z'])\n",
    "\n",
    "#tu codigo aquí\n",
    "string1= \"qweart5op63ui7&&&y&dsfghjklzxcvbnm\"\n",
    "string2= \"1234qwerty\"\n",
    "def pangram(string):\n",
    "    # string.lower()\n",
    "    #print(string.lower())\n",
    "    matches = re.findall(r'[a-z]', string)\n",
    "    reduce = set(matches)\n",
    "    print(reduce)\n",
    "    # print(abecedario - reduce)\n",
    "    if len(reduce)==26:\n",
    "        return (True)\n",
    "    else:\n",
    "        return (False)\n",
    "        \n",
    "pangrams = [\"Waltz, nymph, for quick jigs vex Bud.\",\n",
    "\"Sphinx of black quartz, judge my vow.\",\n",
    "\"Pack my box with five dozen liquor jugs.\",\n",
    "\"Glib jocks quiz nymph to vex dwarf.\",\n",
    "\"Jackdaws love my big sphinx of quartz.\",\n",
    "\"The five boxing wizards jump quickly.\",\n",
    "\"How vexingly quick daft zebras jump!\",\n",
    "\"Quick zephyrs blow, vexing daft Jim.\",\n",
    "\"Two driven jocks help fax my big quiz.\",\n",
    "\"The jay, pig, fox, zebra and my wolves quack!\",\n",
    "\"Sympathizing would fix Quaker objectives.\",\n",
    "\"A wizard's job is to vex chumps quickly in fog.\",\n",
    "\"Watch 'Jeopardy!', Alex Trebek's fun TV quiz game.\",\n",
    "\"By Jove, my quick study of lexicography won a prize!\",\n",
    "\"Waxy and quivering, jocks fumble the pizza.\"]\n",
    "#validacion de varios strings\n",
    "for string in pangrams:\n",
    "    print(f\"{string}\" + f\"Value: {pangram(string)}\")"
   ]
  },
  {
   "cell_type": "code",
   "execution_count": null,
   "metadata": {},
   "outputs": [],
   "source": []
  },
  {
   "cell_type": "code",
   "execution_count": 66,
   "metadata": {},
   "outputs": [
    {
     "name": "stderr",
     "output_type": "stream",
     "text": [
      "FFFFFFFFFFF.FFF...............\n",
      "======================================================================\n",
      "FAIL: runTest (mod.testing.test_pangram.<locals>.TestKnown)\n",
      "----------------------------------------------------------------------\n",
      "Traceback (most recent call last):\n",
      "  File \"/home/ubuntu/lab-functions-es/mod/testing.py\", line 172, in runTest\n",
      "    self.assertEqual(fn(self.input), self.output, f\"Should be {self.output}\")\n",
      "AssertionError: False != True : Should be True\n",
      "\n",
      "======================================================================\n",
      "FAIL: runTest (mod.testing.test_pangram.<locals>.TestKnown)\n",
      "----------------------------------------------------------------------\n",
      "Traceback (most recent call last):\n",
      "  File \"/home/ubuntu/lab-functions-es/mod/testing.py\", line 172, in runTest\n",
      "    self.assertEqual(fn(self.input), self.output, f\"Should be {self.output}\")\n",
      "AssertionError: False != True : Should be True\n",
      "\n",
      "======================================================================\n",
      "FAIL: runTest (mod.testing.test_pangram.<locals>.TestKnown)\n",
      "----------------------------------------------------------------------\n",
      "Traceback (most recent call last):\n",
      "  File \"/home/ubuntu/lab-functions-es/mod/testing.py\", line 172, in runTest\n",
      "    self.assertEqual(fn(self.input), self.output, f\"Should be {self.output}\")\n",
      "AssertionError: False != True : Should be True\n",
      "\n",
      "======================================================================\n",
      "FAIL: runTest (mod.testing.test_pangram.<locals>.TestKnown)\n",
      "----------------------------------------------------------------------\n",
      "Traceback (most recent call last):\n",
      "  File \"/home/ubuntu/lab-functions-es/mod/testing.py\", line 172, in runTest\n",
      "    self.assertEqual(fn(self.input), self.output, f\"Should be {self.output}\")\n",
      "AssertionError: False != True : Should be True\n",
      "\n",
      "======================================================================\n",
      "FAIL: runTest (mod.testing.test_pangram.<locals>.TestKnown)\n",
      "----------------------------------------------------------------------\n",
      "Traceback (most recent call last):\n",
      "  File \"/home/ubuntu/lab-functions-es/mod/testing.py\", line 172, in runTest\n",
      "    self.assertEqual(fn(self.input), self.output, f\"Should be {self.output}\")\n",
      "AssertionError: False != True : Should be True\n",
      "\n",
      "======================================================================\n",
      "FAIL: runTest (mod.testing.test_pangram.<locals>.TestKnown)\n",
      "----------------------------------------------------------------------\n",
      "Traceback (most recent call last):\n",
      "  File \"/home/ubuntu/lab-functions-es/mod/testing.py\", line 172, in runTest\n",
      "    self.assertEqual(fn(self.input), self.output, f\"Should be {self.output}\")\n",
      "AssertionError: False != True : Should be True\n",
      "\n",
      "======================================================================\n",
      "FAIL: runTest (mod.testing.test_pangram.<locals>.TestKnown)\n",
      "----------------------------------------------------------------------\n",
      "Traceback (most recent call last):\n",
      "  File \"/home/ubuntu/lab-functions-es/mod/testing.py\", line 172, in runTest\n",
      "    self.assertEqual(fn(self.input), self.output, f\"Should be {self.output}\")\n",
      "AssertionError: False != True : Should be True\n",
      "\n",
      "======================================================================\n",
      "FAIL: runTest (mod.testing.test_pangram.<locals>.TestKnown)\n",
      "----------------------------------------------------------------------\n",
      "Traceback (most recent call last):\n",
      "  File \"/home/ubuntu/lab-functions-es/mod/testing.py\", line 172, in runTest\n",
      "    self.assertEqual(fn(self.input), self.output, f\"Should be {self.output}\")\n",
      "AssertionError: False != True : Should be True\n",
      "\n",
      "======================================================================\n",
      "FAIL: runTest (mod.testing.test_pangram.<locals>.TestKnown)\n",
      "----------------------------------------------------------------------\n",
      "Traceback (most recent call last):\n",
      "  File \"/home/ubuntu/lab-functions-es/mod/testing.py\", line 172, in runTest\n",
      "    self.assertEqual(fn(self.input), self.output, f\"Should be {self.output}\")\n",
      "AssertionError: False != True : Should be True\n",
      "\n",
      "======================================================================\n",
      "FAIL: runTest (mod.testing.test_pangram.<locals>.TestKnown)\n",
      "----------------------------------------------------------------------\n",
      "Traceback (most recent call last):\n",
      "  File \"/home/ubuntu/lab-functions-es/mod/testing.py\", line 172, in runTest\n",
      "    self.assertEqual(fn(self.input), self.output, f\"Should be {self.output}\")\n",
      "AssertionError: False != True : Should be True\n",
      "\n",
      "======================================================================\n",
      "FAIL: runTest (mod.testing.test_pangram.<locals>.TestKnown)\n",
      "----------------------------------------------------------------------\n",
      "Traceback (most recent call last):\n",
      "  File \"/home/ubuntu/lab-functions-es/mod/testing.py\", line 172, in runTest\n",
      "    self.assertEqual(fn(self.input), self.output, f\"Should be {self.output}\")\n",
      "AssertionError: False != True : Should be True\n",
      "\n",
      "======================================================================\n",
      "FAIL: runTest (mod.testing.test_pangram.<locals>.TestKnown)\n",
      "----------------------------------------------------------------------\n",
      "Traceback (most recent call last):\n",
      "  File \"/home/ubuntu/lab-functions-es/mod/testing.py\", line 172, in runTest\n",
      "    self.assertEqual(fn(self.input), self.output, f\"Should be {self.output}\")\n",
      "AssertionError: False != True : Should be True\n",
      "\n",
      "======================================================================\n",
      "FAIL: runTest (mod.testing.test_pangram.<locals>.TestKnown)\n",
      "----------------------------------------------------------------------\n",
      "Traceback (most recent call last):\n",
      "  File \"/home/ubuntu/lab-functions-es/mod/testing.py\", line 172, in runTest\n",
      "    self.assertEqual(fn(self.input), self.output, f\"Should be {self.output}\")\n",
      "AssertionError: False != True : Should be True\n",
      "\n",
      "======================================================================\n",
      "FAIL: runTest (mod.testing.test_pangram.<locals>.TestKnown)\n",
      "----------------------------------------------------------------------\n",
      "Traceback (most recent call last):\n",
      "  File \"/home/ubuntu/lab-functions-es/mod/testing.py\", line 172, in runTest\n",
      "    self.assertEqual(fn(self.input), self.output, f\"Should be {self.output}\")\n",
      "AssertionError: False != True : Should be True\n",
      "\n",
      "----------------------------------------------------------------------\n",
      "Ran 30 tests in 0.072s\n",
      "\n",
      "FAILED (failures=14)\n"
     ]
    },
    {
     "name": "stdout",
     "output_type": "stream",
     "text": [
      "['a', 'c', 'd', 'e', 'f', 'g', 'h', 'i', 'i', 'j', 'k', 'l', 'm', 'n', 'o', 'p', 'q', 'r', 's', 't', 'u', 'u', 'v', 'x', 'y', 'z']\n",
      "['a', 'a', 'b', 'c', 'd', 'e', 'f', 'g', 'h', 'i', 'j', 'k', 'l', 'm', 'n', 'o', 'o', 'p', 'q', 'r', 't', 'u', 'u', 'v', 'w', 'x', 'y', 'z']\n",
      "['a', 'b', 'c', 'd', 'e', 'e', 'f', 'g', 'h', 'i', 'i', 'i', 'j', 'k', 'l', 'm', 'n', 'o', 'o', 'o', 'q', 'r', 's', 't', 'u', 'u', 'v', 'w', 'x', 'y', 'z']\n",
      "['a', 'b', 'c', 'd', 'e', 'f', 'h', 'i', 'i', 'j', 'k', 'l', 'm', 'n', 'o', 'o', 'p', 'q', 'r', 's', 't', 'u', 'v', 'w', 'x', 'y', 'z']\n",
      "['a', 'a', 'a', 'b', 'c', 'd', 'e', 'f', 'g', 'h', 'i', 'i', 'k', 'l', 'm', 'n', 'o', 'o', 'p', 'q', 'r', 's', 's', 't', 'u', 'v', 'w', 'x', 'y', 'z']\n",
      "['a', 'b', 'c', 'd', 'e', 'e', 'f', 'g', 'h', 'i', 'i', 'i', 'i', 'j', 'k', 'l', 'm', 'n', 'o', 'p', 'q', 'r', 's', 'u', 'u', 'v', 'w', 'x', 'y', 'z']\n",
      "['a', 'a', 'b', 'c', 'd', 'e', 'e', 'f', 'g', 'i', 'i', 'j', 'k', 'l', 'm', 'n', 'o', 'p', 'q', 'r', 's', 't', 'u', 'u', 'v', 'w', 'x', 'y', 'z']\n",
      "['a', 'b', 'c', 'd', 'e', 'e', 'f', 'g', 'h', 'i', 'i', 'i', 'k', 'l', 'm', 'n', 'o', 'p', 'r', 's', 't', 'u', 'v', 'w', 'x', 'y', 'z']\n",
      "['a', 'b', 'c', 'd', 'e', 'e', 'f', 'g', 'h', 'i', 'i', 'i', 'j', 'k', 'l', 'm', 'n', 'o', 'o', 'p', 'q', 'r', 's', 'u', 'v', 'w', 'x', 'y', 'z']\n",
      "['a', 'a', 'a', 'a', 'b', 'c', 'd', 'e', 'e', 'e', 'f', 'g', 'h', 'i', 'j', 'k', 'l', 'm', 'n', 'o', 'o', 'p', 'q', 'r', 's', 'u', 'v', 'w', 'x', 'y', 'y', 'z']\n",
      "['a', 'a', 'b', 'c', 'd', 'e', 'e', 'e', 'f', 'g', 'h', 'i', 'i', 'i', 'i', 'j', 'k', 'l', 'm', 'n', 'o', 'o', 'p', 'r', 's', 't', 't', 'u', 'u', 'v', 'w', 'x', 'y', 'z']\n",
      "['a', 'b', 'c', 'c', 'd', 'e', 'f', 'g', 'h', 'i', 'i', 'i', 'i', 'j', 'k', 'l', 'm', 'n', 'o', 'o', 'o', 'p', 'q', 'r', 's', 's', 's', 't', 'u', 'u', 'v', 'w', 'x', 'y', 'z']\n",
      "['a', 'a', 'a', 'b', 'c', 'd', 'e', 'e', 'e', 'e', 'e', 'f', 'g', 'h', 'i', 'k', 'l', 'm', 'n', 'o', 'p', 'q', 'r', 'r', 's', 't', 'u', 'u', 'x', 'y', 'z']\n",
      "['a', 'a', 'c', 'c', 'd', 'e', 'e', 'e', 'f', 'g', 'h', 'i', 'i', 'i', 'k', 'l', 'm', 'n', 'o', 'o', 'o', 'o', 'p', 'p', 'q', 'r', 'r', 's', 't', 'u', 'u', 'v', 'w', 'x', 'y', 'y', 'y', 'y', 'z']\n",
      "['a', 'a', 'a', 'b', 'c', 'd', 'e', 'e', 'e', 'f', 'g', 'h', 'i', 'i', 'i', 'j', 'k', 'l', 'm', 'n', 'n', 'o', 'p', 'q', 'r', 's', 't', 'u', 'u', 'v', 'x', 'y', 'z', 'z']\n",
      "['a', 'a', 'a', 'a', 'a', 'a', 'a', 'a', 'b', 'b', 'b', 'b', 'c', 'c', 'd', 'd', 'd', 'e', 'e', 'e', 'f', 'f', 'f', 'g', 'h', 'h', 'h', 'h', 'h', 'h', 'i', 'i', 'i', 'j', 'j', 'j', 'k', 'l', 'l', 'm', 'n', 'n', 'n', 'n', 'n', 'n', 'o', 'o', 'p', 'p', 'p', 'p', 'p', 'q', 'q', 'q', 'r', 'r', 's', 's', 't', 't', 't', 't', 'u', 'u', 'u', 'u', 'u', 'u', 'v', 'v', 'v', 'v', 'v', 'v', 'v', 'v', 'w', 'w', 'x', 'x', 'x', 'x', 'x', 'x', 'x', 'x', 'x', 'y', 'y', 'y', 'y', 'y', 'z']\n",
      "['b', 'b', 'b', 'c', 'c', 'c', 'c', 'c', 'c', 'd', 'd', 'e', 'e', 'e', 'e', 'f', 'f', 'f', 'f', 'i', 'i', 'i', 'i', 'i', 'j', 'k', 'k', 'k', 'l', 'l', 'm', 'm', 'o', 'q', 'q', 'q', 'q', 'r', 'r', 'r', 's', 's', 's', 't', 't', 'u', 'v', 'w', 'w', 'w', 'y', 'y', 'y', 'z', 'z', 'z']\n",
      "['b', 'c', 'c', 'c', 'c', 'c', 'd', 'd', 'd', 'd', 'e', 'f', 'f', 'f', 'g', 'g', 'g', 'h', 'i', 'i', 'i', 'i', 'i', 'i', 'i', 'j', 'j', 'k', 'k', 'k', 'k', 'k', 'l', 'l', 'l', 'm', 'm', 'n', 'n', 'n', 'n', 'o', 'o', 'o', 'o', 'p', 'p', 'q', 'q', 's', 's', 's', 't', 't', 't', 't', 'u', 'w', 'w', 'w', 'w', 'x', 'y', 'z', 'z']\n",
      "['b', 'b', 'b', 'c', 'd', 'h', 'h', 'i', 'k', 'l', 'n', 'o', 'o', 'p', 'p', 'q', 'q', 'q', 'q', 's', 'u', 'u', 'w', 'x', 'x', 'x', 'x', 'y']\n",
      "['a', 'a', 'b', 'c', 'd', 'd', 'e', 'f', 'f', 'g', 'g', 'g', 'h', 'i', 'i', 'j', 'k', 'l', 'm', 'm', 'm', 'n', 'n', 'o', 'o', 'p', 'p', 'p', 'r', 's', 't', 't', 'u', 'x', 'x', 'y']\n",
      "['b', 'b', 'b', 'c', 'c', 'c', 'd', 'd', 'd', 'd', 'e', 'e', 'e', 'g', 'h', 'h', 'i', 'i', 'i', 'i', 'j', 'k', 'k', 'k', 'k', 'l', 'l', 'm', 'n', 'n', 'n', 'o', 'o', 'p', 'p', 'q', 'q', 'q', 'q', 'r', 'r', 'r', 'r', 's', 's', 't', 't', 'u', 'u', 'v', 'v', 'v', 'w', 'w', 'w', 'x', 'x', 'x', 'y', 'z', 'z', 'z', 'z', 'z']\n",
      "['a', 'a', 'b', 'c', 'd', 'e', 'e', 'f', 'f', 'h', 'h', 'i', 'i', 'j', 'm', 'm', 'n', 'o', 'q', 's', 't', 't', 't', 'u', 'u', 'u', 'u', 'v', 'w', 'w', 'x', 'x', 'y', 'z']\n",
      "['a', 'a', 'a', 'a', 'b', 'b', 'b', 'c', 'c', 'c', 'd', 'e', 'e', 'e', 'f', 'f', 'f', 'f', 'g', 'g', 'g', 'g', 'g', 'g', 'i', 'j', 'j', 'j', 'j', 'k', 'k', 'l', 'l', 'l', 'l', 'm', 'm', 'm', 'n', 'n', 'n', 'n', 'n', 'n', 'n', 'o', 'o', 'o', 'p', 'p', 'p', 'p', 'p', 'q', 'q', 'q', 'q', 'q', 'q', 'r', 'r', 'r', 'r', 'r', 's', 's', 's', 't', 't', 'v', 'v', 'w', 'w', 'w', 'w', 'w', 'x', 'x', 'y', 'y', 'z', 'z', 'z', 'z']\n",
      "['a', 'a', 'a', 'a', 'b', 'b', 'b', 'b', 'c', 'd', 'f', 'g', 'g', 'i', 'i', 'i', 'j', 'j', 'k', 'o', 'q', 'r', 'r', 's', 's', 's', 't', 't', 'u', 'y', 'z']\n",
      "['a', 'a', 'a', 'b', 'b', 'b', 'c', 'd', 'd', 'd', 'd', 'd', 'd', 'e', 'e', 'e', 'e', 'f', 'f', 'f', 'f', 'g', 'g', 'h', 'h', 'h', 'h', 'h', 'h', 'h', 'h', 'i', 'i', 'i', 'k', 'k', 'k', 'l', 'l', 'l', 'l', 'n', 'n', 'n', 'n', 'n', 'o', 'o', 'p', 'p', 'p', 'p', 'q', 'q', 'q', 'q', 'q', 'r', 'r', 'r', 's', 's', 's', 't', 't', 't', 't', 't', 't', 'v', 'v', 'v', 'w', 'w', 'w', 'x', 'x', 'x', 'x', 'x', 'z', 'z', 'z', 'z', 'z', 'z']\n",
      "['a', 'a', 'a', 'a', 'b', 'b', 'b', 'c', 'c', 'd', 'd', 'd', 'd', 'e', 'e', 'e', 'f', 'f', 'g', 'h', 'i', 'i', 'i', 'i', 'j', 'k', 'k', 'k', 'k', 'l', 'm', 'm', 'm', 'm', 'm', 'n', 'n', 'n', 'n', 'n', 'n', 'o', 'p', 'p', 'p', 'p', 'q', 'q', 's', 's', 's', 't', 't', 't', 't', 'u', 'u', 'u', 'u', 'u', 'u', 'u', 'u', 'v', 'w', 'x', 'x', 'y', 'z', 'z', 'z', 'z', 'z']\n",
      "['a', 'a', 'd', 'f', 'f', 'h', 'i', 'j', 'j', 'j', 'k', 'k', 'n', 'n', 'n', 'o', 'o', 'o', 'o', 'o', 'q', 's', 't', 'u', 'v', 'w', 'w', 'w', 'x', 'y', 'y']\n",
      "['a', 'a', 'b', 'b', 'c', 'd', 'g', 'g', 'h', 'i', 'j', 'k', 'k', 'l', 'l', 'o', 'q', 'r', 't', 'u', 'v', 'v', 'x', 'y', 'y']\n",
      "['a', 'a', 'b', 'b', 'c', 'c', 'c', 'c', 'c', 'd', 'd', 'e', 'e', 'e', 'e', 'e', 'e', 'f', 'g', 'g', 'g', 'g', 'h', 'h', 'i', 'i', 'j', 'j', 'j', 'k', 'k', 'k', 'l', 'l', 'l', 'm', 'm', 'm', 'm', 'n', 'n', 'n', 'n', 'n', 'o', 'o', 'o', 'o', 'p', 'q', 'q', 'q', 'r', 'r', 's', 's', 's', 's', 's', 't', 'u', 'u', 'v', 'v', 'v', 'v', 'v', 'w', 'w', 'w', 'w', 'w', 'x', 'x', 'y', 'y', 'y', 'y', 'y', 'y']\n",
      "['a', 'a', 'a', 'b', 'b', 'c', 'c', 'd', 'e', 'e', 'f', 'f', 'g', 'g', 'h', 'h', 'h', 'i', 'i', 'i', 'i', 'k', 'k', 'k', 'k', 'k', 'm', 'm', 'n', 'n', 'n', 'o', 'o', 'p', 'q', 'q', 'q', 'r', 'r', 's', 't', 't', 't', 'u', 'u', 'u', 'u', 'v', 'w', 'x', 'x', 'x', 'x', 'y', 'y', 'y', 'z']\n"
     ]
    }
   ],
   "source": [
    "# Para testear tu función\n",
    "test_pangram(pangram)"
   ]
  },
  {
   "cell_type": "markdown",
   "metadata": {},
   "source": [
    "## 11. Escribe una función que reciba una cadena de palabras separadas por comas y devuelva una cadena de palabras separadas por comas ordenadas alfabéticamente.\n",
    "\n",
    "`NOTA: Puedes usar sorted pero no split y definitivamente no join! 🤪`"
   ]
  },
  {
   "cell_type": "code",
   "execution_count": null,
   "metadata": {},
   "outputs": [],
   "source": [
    "def sort_alpha(string):\n",
    "    split_value = []\n",
    "    tmp = ''\n",
    "    for c in string:\n",
    "        if c == ',':\n",
    "            split_value.append(tmp)\n",
    "            tmp = ''\n",
    "        else:\n",
    "            tmp += c  \n",
    "    if tmp:\n",
    "        split_value.append(tmp)\n",
    "    # Join the list of words with hyphens\n",
    "    joined_string = '-'.join(split_value)\n",
    "    return joined_string"
   ]
  },
  {
   "cell_type": "code",
   "execution_count": null,
   "metadata": {},
   "outputs": [],
   "source": [
    "# Para testear tu función \n",
    "test_alpha(sort_alpha)"
   ]
  },
  {
   "cell_type": "markdown",
   "metadata": {},
   "source": [
    "## 12. Escribe una función para verificar si una contraseña dada es fuerte (al menos 8 caracteres, al menos una minúscula, al menos una mayúscula, al menos un número y al menos un carácter especial). Debería devolver True si es fuerte y False si no lo es."
   ]
  },
  {
   "cell_type": "code",

   "execution_count": 104,

   "metadata": {},
   "outputs": [
    {
     "name": "stdout",
     "output_type": "stream",
     "text": [
      "True\n",
      "True\n",
      "False\n"
     ]
    }
   ],
   "source": [
    "# importo el módulo de expresiones regulares\n",
    "import re\n",
    "password1 = \"Pitagora72425!\"\n",
    "password2 = \"Fermat_an+bn!=cnforn2\"\n",
    "password3 = \"Mariana\"\n",
    "def check_pass(password):\n",
    "    # Verifica que tenga 8 o + caracteres\n",
    "    a = bool(re.search(r'[\\w_-]{8,100}', password))\n",
    "    # Verifica que tenga al menos una minúscula\n",
    "    b = bool(re.search(r'[a-z]', password))\n",
    "    # Verifica que tenga al menos una mayúscula\n",
    "    c = bool(re.search(r'[A-Z]', password))\n",
    "    # Verifica que tenga al menos un número\n",
    "    d = bool(re.search(r'[0-9]', password))\n",
    "    # Verifica que tenga al tenga un caracter especial\n",
    "    e = bool(re.search(r'[@_!#$%^&*()<>?/|}{~:]', password))\n",
    "    return(bool(a and b and c and d and e))\n",
    "    \n",
    "#Comprobaciones    \n",
    "print(check_pass(password1))\n",
    "print(check_pass(password2))\n",
    "print(check_pass(password3))"
   ]
  },
  {
   "cell_type": "code",
   "execution_count": 100,
   "metadata": {},
   "outputs": [
    {
     "name": "stderr",
     "output_type": "stream",
     "text": [
      "F........F................FF................F.F..........F...........F.....................F........\n",
      "======================================================================\n",
      "FAIL: runTest (mod.testing.test_pass.<locals>.TestKnown)\n",
      "----------------------------------------------------------------------\n",
      "Traceback (most recent call last):\n",
      "  File \"/home/ubuntu/lab-functions-es/mod/testing.py\", line 202, in runTest\n",
      "    self.assertEqual(fn(self.input), self.output, f\"Should be {self.output}\")\n",
      "AssertionError: False != True : Should be True\n",
      "\n",
      "======================================================================\n",
      "FAIL: runTest (mod.testing.test_pass.<locals>.TestKnown)\n",
      "----------------------------------------------------------------------\n",
      "Traceback (most recent call last):\n",
      "  File \"/home/ubuntu/lab-functions-es/mod/testing.py\", line 202, in runTest\n",
      "    self.assertEqual(fn(self.input), self.output, f\"Should be {self.output}\")\n",
      "AssertionError: False != True : Should be True\n",
      "\n",
      "======================================================================\n",
      "FAIL: runTest (mod.testing.test_pass.<locals>.TestKnown)\n",
      "----------------------------------------------------------------------\n",
      "Traceback (most recent call last):\n",
      "  File \"/home/ubuntu/lab-functions-es/mod/testing.py\", line 202, in runTest\n",
      "    self.assertEqual(fn(self.input), self.output, f\"Should be {self.output}\")\n",
      "AssertionError: False != True : Should be True\n",
      "\n",
      "======================================================================\n",
      "FAIL: runTest (mod.testing.test_pass.<locals>.TestKnown)\n",
      "----------------------------------------------------------------------\n",
      "Traceback (most recent call last):\n",
      "  File \"/home/ubuntu/lab-functions-es/mod/testing.py\", line 202, in runTest\n",
      "    self.assertEqual(fn(self.input), self.output, f\"Should be {self.output}\")\n",
      "AssertionError: False != True : Should be True\n",
      "\n",
      "======================================================================\n",
      "FAIL: runTest (mod.testing.test_pass.<locals>.TestKnown)\n",
      "----------------------------------------------------------------------\n",
      "Traceback (most recent call last):\n",
      "  File \"/home/ubuntu/lab-functions-es/mod/testing.py\", line 202, in runTest\n",
      "    self.assertEqual(fn(self.input), self.output, f\"Should be {self.output}\")\n",
      "AssertionError: False != True : Should be True\n",
      "\n",
      "======================================================================\n",
      "FAIL: runTest (mod.testing.test_pass.<locals>.TestKnown)\n",
      "----------------------------------------------------------------------\n",
      "Traceback (most recent call last):\n",
      "  File \"/home/ubuntu/lab-functions-es/mod/testing.py\", line 202, in runTest\n",
      "    self.assertEqual(fn(self.input), self.output, f\"Should be {self.output}\")\n",
      "AssertionError: False != True : Should be True\n",
      "\n",
      "======================================================================\n",
      "FAIL: runTest (mod.testing.test_pass.<locals>.TestKnown)\n",
      "----------------------------------------------------------------------\n",
      "Traceback (most recent call last):\n",
      "  File \"/home/ubuntu/lab-functions-es/mod/testing.py\", line 202, in runTest\n",
      "    self.assertEqual(fn(self.input), self.output, f\"Should be {self.output}\")\n",
      "AssertionError: False != True : Should be True\n",
      "\n",
      "======================================================================\n",
      "FAIL: runTest (mod.testing.test_pass.<locals>.TestKnown)\n",
      "----------------------------------------------------------------------\n",
      "Traceback (most recent call last):\n",
      "  File \"/home/ubuntu/lab-functions-es/mod/testing.py\", line 202, in runTest\n",
      "    self.assertEqual(fn(self.input), self.output, f\"Should be {self.output}\")\n",
      "AssertionError: False != True : Should be True\n",
      "\n",
      "======================================================================\n",
      "FAIL: runTest (mod.testing.test_pass.<locals>.TestKnown)\n",
      "----------------------------------------------------------------------\n",
      "Traceback (most recent call last):\n",
      "  File \"/home/ubuntu/lab-functions-es/mod/testing.py\", line 202, in runTest\n",
      "    self.assertEqual(fn(self.input), self.output, f\"Should be {self.output}\")\n",
      "AssertionError: False != True : Should be True\n",
      "\n",
      "----------------------------------------------------------------------\n",
      "Ran 100 tests in 0.129s\n",
      "\n",
      "FAILED (failures=9)\n"
     ]
    }
   ],
   "source": [
    "# Para testear tu función\n",
    "test_pass(check_pass)"
   ]
  }
 ],
 "metadata": {
  "kernelspec": {
   "display_name": "Python 3 (ipykernel)",
   "language": "python",
   "name": "python3"
  },
  "language_info": {
   "codemirror_mode": {
    "name": "ipython",
    "version": 3
   },
   "file_extension": ".py",
   "mimetype": "text/x-python",
   "name": "python",
   "nbconvert_exporter": "python",
   "pygments_lexer": "ipython3",
   "version": "3.10.12"



  },
  "vscode": {
   "interpreter": {
    "hash": "aee8b7b246df8f9039afb4144a1f6fd8d2ca17a180786b69acc140d282b71a49"
   }
  }
 },
 "nbformat": 4,
 "nbformat_minor": 4
}
